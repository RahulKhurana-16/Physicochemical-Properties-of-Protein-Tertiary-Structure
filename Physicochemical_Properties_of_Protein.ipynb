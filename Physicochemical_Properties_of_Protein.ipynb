{
 "cells": [
  {
   "cell_type": "markdown",
   "metadata": {},
   "source": [
    "# Predict Physicochemical Properties of Protein Tertiary Structure\n",
    "\n",
    "# Dataset\n",
    "\n",
    "This is a data set of Physicochemical Properties of Protein Tertiary Structure. The data set is taken from CASP 5-9. There are 45730 decoys and size varying from 0 to 21 armstrong. Further details are, F1 - Total surface area. F2 - Non polar exposed area. F3 - Fractional area of exposed non polar residue. F4 - Fractional area of exposed non polar part of residue. F5 - Molecular mass weighted exposed area. F6 - Average deviation from standard exposed area of residue. F7 - Euclidian distance. F8 - Secondary structure penalty. F9 - Spacial Distribution constraints (N,K Value)."
   ]
  },
  {
   "cell_type": "code",
   "execution_count": 1,
   "metadata": {},
   "outputs": [],
   "source": [
    "import pandas as pd\n",
    "import os\n",
    "\n",
    "DATASET_PATH = '/cxldata/datasets/bootml/Protein_dataset_1/'\n",
    "def load_dataset_data(dataset_path=DATASET_PATH): \n",
    "    csv_path = os.path.join(dataset_path, \"CASP.csv\") \n",
    "    return pd.read_csv(csv_path)"
   ]
  },
  {
   "cell_type": "code",
   "execution_count": 2,
   "metadata": {},
   "outputs": [
    {
     "data": {
      "text/html": [
       "<div>\n",
       "<style scoped>\n",
       "    .dataframe tbody tr th:only-of-type {\n",
       "        vertical-align: middle;\n",
       "    }\n",
       "\n",
       "    .dataframe tbody tr th {\n",
       "        vertical-align: top;\n",
       "    }\n",
       "\n",
       "    .dataframe thead th {\n",
       "        text-align: right;\n",
       "    }\n",
       "</style>\n",
       "<table border=\"1\" class=\"dataframe\">\n",
       "  <thead>\n",
       "    <tr style=\"text-align: right;\">\n",
       "      <th></th>\n",
       "      <th>RMSD</th>\n",
       "      <th>F1</th>\n",
       "      <th>F2</th>\n",
       "      <th>F3</th>\n",
       "      <th>F4</th>\n",
       "      <th>F5</th>\n",
       "      <th>F6</th>\n",
       "      <th>F7</th>\n",
       "      <th>F8</th>\n",
       "      <th>F9</th>\n",
       "    </tr>\n",
       "  </thead>\n",
       "  <tbody>\n",
       "    <tr>\n",
       "      <td>0</td>\n",
       "      <td>17.284</td>\n",
       "      <td>13558.30</td>\n",
       "      <td>4305.35</td>\n",
       "      <td>0.31754</td>\n",
       "      <td>162.1730</td>\n",
       "      <td>1.872791e+06</td>\n",
       "      <td>215.3590</td>\n",
       "      <td>4287.87</td>\n",
       "      <td>102</td>\n",
       "      <td>27.0302</td>\n",
       "    </tr>\n",
       "    <tr>\n",
       "      <td>1</td>\n",
       "      <td>6.021</td>\n",
       "      <td>6191.96</td>\n",
       "      <td>1623.16</td>\n",
       "      <td>0.26213</td>\n",
       "      <td>53.3894</td>\n",
       "      <td>8.034467e+05</td>\n",
       "      <td>87.2024</td>\n",
       "      <td>3328.91</td>\n",
       "      <td>39</td>\n",
       "      <td>38.5468</td>\n",
       "    </tr>\n",
       "    <tr>\n",
       "      <td>2</td>\n",
       "      <td>9.275</td>\n",
       "      <td>7725.98</td>\n",
       "      <td>1726.28</td>\n",
       "      <td>0.22343</td>\n",
       "      <td>67.2887</td>\n",
       "      <td>1.075648e+06</td>\n",
       "      <td>81.7913</td>\n",
       "      <td>2981.04</td>\n",
       "      <td>29</td>\n",
       "      <td>38.8119</td>\n",
       "    </tr>\n",
       "    <tr>\n",
       "      <td>3</td>\n",
       "      <td>15.851</td>\n",
       "      <td>8424.58</td>\n",
       "      <td>2368.25</td>\n",
       "      <td>0.28111</td>\n",
       "      <td>67.8325</td>\n",
       "      <td>1.210472e+06</td>\n",
       "      <td>109.4390</td>\n",
       "      <td>3248.22</td>\n",
       "      <td>70</td>\n",
       "      <td>39.0651</td>\n",
       "    </tr>\n",
       "    <tr>\n",
       "      <td>4</td>\n",
       "      <td>7.962</td>\n",
       "      <td>7460.84</td>\n",
       "      <td>1736.94</td>\n",
       "      <td>0.23280</td>\n",
       "      <td>52.4123</td>\n",
       "      <td>1.021020e+06</td>\n",
       "      <td>94.5234</td>\n",
       "      <td>2814.42</td>\n",
       "      <td>41</td>\n",
       "      <td>39.9147</td>\n",
       "    </tr>\n",
       "  </tbody>\n",
       "</table>\n",
       "</div>"
      ],
      "text/plain": [
       "     RMSD        F1       F2       F3        F4            F5        F6  \\\n",
       "0  17.284  13558.30  4305.35  0.31754  162.1730  1.872791e+06  215.3590   \n",
       "1   6.021   6191.96  1623.16  0.26213   53.3894  8.034467e+05   87.2024   \n",
       "2   9.275   7725.98  1726.28  0.22343   67.2887  1.075648e+06   81.7913   \n",
       "3  15.851   8424.58  2368.25  0.28111   67.8325  1.210472e+06  109.4390   \n",
       "4   7.962   7460.84  1736.94  0.23280   52.4123  1.021020e+06   94.5234   \n",
       "\n",
       "        F7   F8       F9  \n",
       "0  4287.87  102  27.0302  \n",
       "1  3328.91   39  38.5468  \n",
       "2  2981.04   29  38.8119  \n",
       "3  3248.22   70  39.0651  \n",
       "4  2814.42   41  39.9147  "
      ]
     },
     "execution_count": 2,
     "metadata": {},
     "output_type": "execute_result"
    }
   ],
   "source": [
    "Protein_Dataset = load_dataset_data()\n",
    "Protein_Dataset.head()"
   ]
  },
  {
   "cell_type": "markdown",
   "metadata": {},
   "source": [
    "## Drop the irrelevant fields from our file\n"
   ]
  },
  {
   "cell_type": "code",
   "execution_count": 3,
   "metadata": {},
   "outputs": [],
   "source": [
    "for x in ['F5','F9', ]:\n",
    "    Protein_Dataset = Protein_Dataset.drop(x,axis=1)"
   ]
  },
  {
   "cell_type": "code",
   "execution_count": 4,
   "metadata": {},
   "outputs": [
    {
     "data": {
      "text/html": [
       "<div>\n",
       "<style scoped>\n",
       "    .dataframe tbody tr th:only-of-type {\n",
       "        vertical-align: middle;\n",
       "    }\n",
       "\n",
       "    .dataframe tbody tr th {\n",
       "        vertical-align: top;\n",
       "    }\n",
       "\n",
       "    .dataframe thead th {\n",
       "        text-align: right;\n",
       "    }\n",
       "</style>\n",
       "<table border=\"1\" class=\"dataframe\">\n",
       "  <thead>\n",
       "    <tr style=\"text-align: right;\">\n",
       "      <th></th>\n",
       "      <th>RMSD</th>\n",
       "      <th>F1</th>\n",
       "      <th>F2</th>\n",
       "      <th>F3</th>\n",
       "      <th>F4</th>\n",
       "      <th>F6</th>\n",
       "      <th>F7</th>\n",
       "      <th>F8</th>\n",
       "    </tr>\n",
       "  </thead>\n",
       "  <tbody>\n",
       "    <tr>\n",
       "      <td>0</td>\n",
       "      <td>17.284</td>\n",
       "      <td>13558.30</td>\n",
       "      <td>4305.35</td>\n",
       "      <td>0.31754</td>\n",
       "      <td>162.1730</td>\n",
       "      <td>215.3590</td>\n",
       "      <td>4287.87</td>\n",
       "      <td>102</td>\n",
       "    </tr>\n",
       "    <tr>\n",
       "      <td>1</td>\n",
       "      <td>6.021</td>\n",
       "      <td>6191.96</td>\n",
       "      <td>1623.16</td>\n",
       "      <td>0.26213</td>\n",
       "      <td>53.3894</td>\n",
       "      <td>87.2024</td>\n",
       "      <td>3328.91</td>\n",
       "      <td>39</td>\n",
       "    </tr>\n",
       "    <tr>\n",
       "      <td>2</td>\n",
       "      <td>9.275</td>\n",
       "      <td>7725.98</td>\n",
       "      <td>1726.28</td>\n",
       "      <td>0.22343</td>\n",
       "      <td>67.2887</td>\n",
       "      <td>81.7913</td>\n",
       "      <td>2981.04</td>\n",
       "      <td>29</td>\n",
       "    </tr>\n",
       "    <tr>\n",
       "      <td>3</td>\n",
       "      <td>15.851</td>\n",
       "      <td>8424.58</td>\n",
       "      <td>2368.25</td>\n",
       "      <td>0.28111</td>\n",
       "      <td>67.8325</td>\n",
       "      <td>109.4390</td>\n",
       "      <td>3248.22</td>\n",
       "      <td>70</td>\n",
       "    </tr>\n",
       "    <tr>\n",
       "      <td>4</td>\n",
       "      <td>7.962</td>\n",
       "      <td>7460.84</td>\n",
       "      <td>1736.94</td>\n",
       "      <td>0.23280</td>\n",
       "      <td>52.4123</td>\n",
       "      <td>94.5234</td>\n",
       "      <td>2814.42</td>\n",
       "      <td>41</td>\n",
       "    </tr>\n",
       "  </tbody>\n",
       "</table>\n",
       "</div>"
      ],
      "text/plain": [
       "     RMSD        F1       F2       F3        F4        F6       F7   F8\n",
       "0  17.284  13558.30  4305.35  0.31754  162.1730  215.3590  4287.87  102\n",
       "1   6.021   6191.96  1623.16  0.26213   53.3894   87.2024  3328.91   39\n",
       "2   9.275   7725.98  1726.28  0.22343   67.2887   81.7913  2981.04   29\n",
       "3  15.851   8424.58  2368.25  0.28111   67.8325  109.4390  3248.22   70\n",
       "4   7.962   7460.84  1736.94  0.23280   52.4123   94.5234  2814.42   41"
      ]
     },
     "execution_count": 4,
     "metadata": {},
     "output_type": "execute_result"
    }
   ],
   "source": [
    "Protein_Dataset.head()"
   ]
  },
  {
   "cell_type": "markdown",
   "metadata": {},
   "source": [
    "## Data Info"
   ]
  },
  {
   "cell_type": "code",
   "execution_count": 5,
   "metadata": {},
   "outputs": [
    {
     "name": "stdout",
     "output_type": "stream",
     "text": [
      "<class 'pandas.core.frame.DataFrame'>\n",
      "RangeIndex: 45730 entries, 0 to 45729\n",
      "Data columns (total 8 columns):\n",
      "RMSD    45730 non-null float64\n",
      "F1      45730 non-null float64\n",
      "F2      45730 non-null float64\n",
      "F3      45730 non-null float64\n",
      "F4      45730 non-null float64\n",
      "F6      45730 non-null float64\n",
      "F7      45730 non-null float64\n",
      "F8      45730 non-null int64\n",
      "dtypes: float64(7), int64(1)\n",
      "memory usage: 2.8 MB\n"
     ]
    }
   ],
   "source": [
    "Protein_Dataset.info()"
   ]
  },
  {
   "cell_type": "code",
   "execution_count": 6,
   "metadata": {
    "scrolled": true
   },
   "outputs": [
    {
     "data": {
      "text/html": [
       "<div>\n",
       "<style scoped>\n",
       "    .dataframe tbody tr th:only-of-type {\n",
       "        vertical-align: middle;\n",
       "    }\n",
       "\n",
       "    .dataframe tbody tr th {\n",
       "        vertical-align: top;\n",
       "    }\n",
       "\n",
       "    .dataframe thead th {\n",
       "        text-align: right;\n",
       "    }\n",
       "</style>\n",
       "<table border=\"1\" class=\"dataframe\">\n",
       "  <thead>\n",
       "    <tr style=\"text-align: right;\">\n",
       "      <th></th>\n",
       "      <th>RMSD</th>\n",
       "      <th>F1</th>\n",
       "      <th>F2</th>\n",
       "      <th>F3</th>\n",
       "      <th>F4</th>\n",
       "      <th>F6</th>\n",
       "      <th>F7</th>\n",
       "      <th>F8</th>\n",
       "    </tr>\n",
       "  </thead>\n",
       "  <tbody>\n",
       "    <tr>\n",
       "      <td>count</td>\n",
       "      <td>45730.000000</td>\n",
       "      <td>45730.000000</td>\n",
       "      <td>45730.000000</td>\n",
       "      <td>45730.000000</td>\n",
       "      <td>45730.000000</td>\n",
       "      <td>45730.000000</td>\n",
       "      <td>45730.000000</td>\n",
       "      <td>45730.000000</td>\n",
       "    </tr>\n",
       "    <tr>\n",
       "      <td>mean</td>\n",
       "      <td>7.748528</td>\n",
       "      <td>9871.596995</td>\n",
       "      <td>3017.367175</td>\n",
       "      <td>0.302392</td>\n",
       "      <td>103.492433</td>\n",
       "      <td>145.638061</td>\n",
       "      <td>3989.755990</td>\n",
       "      <td>69.975071</td>\n",
       "    </tr>\n",
       "    <tr>\n",
       "      <td>std</td>\n",
       "      <td>6.118312</td>\n",
       "      <td>4058.138034</td>\n",
       "      <td>1464.324663</td>\n",
       "      <td>0.062886</td>\n",
       "      <td>55.424985</td>\n",
       "      <td>69.999230</td>\n",
       "      <td>1993.574575</td>\n",
       "      <td>56.493443</td>\n",
       "    </tr>\n",
       "    <tr>\n",
       "      <td>min</td>\n",
       "      <td>0.000000</td>\n",
       "      <td>2392.050000</td>\n",
       "      <td>403.500000</td>\n",
       "      <td>0.092500</td>\n",
       "      <td>10.310100</td>\n",
       "      <td>31.970400</td>\n",
       "      <td>0.000000</td>\n",
       "      <td>0.000000</td>\n",
       "    </tr>\n",
       "    <tr>\n",
       "      <td>25%</td>\n",
       "      <td>2.305000</td>\n",
       "      <td>6936.680000</td>\n",
       "      <td>1979.045000</td>\n",
       "      <td>0.258740</td>\n",
       "      <td>63.563900</td>\n",
       "      <td>94.757500</td>\n",
       "      <td>3165.322500</td>\n",
       "      <td>31.000000</td>\n",
       "    </tr>\n",
       "    <tr>\n",
       "      <td>50%</td>\n",
       "      <td>5.030000</td>\n",
       "      <td>8898.805000</td>\n",
       "      <td>2668.155000</td>\n",
       "      <td>0.300150</td>\n",
       "      <td>87.740800</td>\n",
       "      <td>126.176000</td>\n",
       "      <td>3840.170000</td>\n",
       "      <td>54.000000</td>\n",
       "    </tr>\n",
       "    <tr>\n",
       "      <td>75%</td>\n",
       "      <td>13.379000</td>\n",
       "      <td>12126.150000</td>\n",
       "      <td>3786.410000</td>\n",
       "      <td>0.342890</td>\n",
       "      <td>133.646750</td>\n",
       "      <td>181.468500</td>\n",
       "      <td>4644.192500</td>\n",
       "      <td>91.000000</td>\n",
       "    </tr>\n",
       "    <tr>\n",
       "      <td>max</td>\n",
       "      <td>20.999000</td>\n",
       "      <td>40034.900000</td>\n",
       "      <td>15312.000000</td>\n",
       "      <td>0.577690</td>\n",
       "      <td>369.317000</td>\n",
       "      <td>598.408000</td>\n",
       "      <td>105948.170000</td>\n",
       "      <td>350.000000</td>\n",
       "    </tr>\n",
       "  </tbody>\n",
       "</table>\n",
       "</div>"
      ],
      "text/plain": [
       "               RMSD            F1            F2            F3            F4  \\\n",
       "count  45730.000000  45730.000000  45730.000000  45730.000000  45730.000000   \n",
       "mean       7.748528   9871.596995   3017.367175      0.302392    103.492433   \n",
       "std        6.118312   4058.138034   1464.324663      0.062886     55.424985   \n",
       "min        0.000000   2392.050000    403.500000      0.092500     10.310100   \n",
       "25%        2.305000   6936.680000   1979.045000      0.258740     63.563900   \n",
       "50%        5.030000   8898.805000   2668.155000      0.300150     87.740800   \n",
       "75%       13.379000  12126.150000   3786.410000      0.342890    133.646750   \n",
       "max       20.999000  40034.900000  15312.000000      0.577690    369.317000   \n",
       "\n",
       "                 F6             F7            F8  \n",
       "count  45730.000000   45730.000000  45730.000000  \n",
       "mean     145.638061    3989.755990     69.975071  \n",
       "std       69.999230    1993.574575     56.493443  \n",
       "min       31.970400       0.000000      0.000000  \n",
       "25%       94.757500    3165.322500     31.000000  \n",
       "50%      126.176000    3840.170000     54.000000  \n",
       "75%      181.468500    4644.192500     91.000000  \n",
       "max      598.408000  105948.170000    350.000000  "
      ]
     },
     "execution_count": 6,
     "metadata": {},
     "output_type": "execute_result"
    }
   ],
   "source": [
    "Protein_Dataset.describe()"
   ]
  },
  {
   "cell_type": "markdown",
   "metadata": {},
   "source": [
    "## Plot histogram"
   ]
  },
  {
   "cell_type": "code",
   "execution_count": 7,
   "metadata": {
    "scrolled": true
   },
   "outputs": [
    {
     "data": {
      "image/png": "[encoded data removed]",
      "text/plain": [
       "<Figure size 1440x1080 with 9 Axes>"
      ]
     },
     "metadata": {
      "needs_background": "light"
     },
     "output_type": "display_data"
    }
   ],
   "source": [
    "%matplotlib inline\n",
    "import matplotlib.pyplot as plt\n",
    "Protein_Dataset.hist(bins=50, figsize=(20,15))\n",
    "plt.show()"
   ]
  },
  {
   "cell_type": "markdown",
   "metadata": {},
   "source": [
    "## Split dataset into test and training set"
   ]
  },
  {
   "cell_type": "code",
   "execution_count": 8,
   "metadata": {},
   "outputs": [],
   "source": [
    "import numpy as np\n",
    "\n",
    "np.random.seed(42)"
   ]
  },
  {
   "cell_type": "code",
   "execution_count": 9,
   "metadata": {},
   "outputs": [
    {
     "name": "stdout",
     "output_type": "stream",
     "text": [
      "Length of train set is 36584\n",
      "Length of test set is 9146\n"
     ]
    }
   ],
   "source": [
    "from sklearn.model_selection import train_test_split\n",
    "\n",
    "train_set, test_set = train_test_split(Protein_Dataset, test_size=0.2, random_state=42)\n",
    "\n",
    "print (\"Length of train set is\", len(train_set))\n",
    "print (\"Length of test set is\", len(test_set))\n"
   ]
  },
  {
   "cell_type": "markdown",
   "metadata": {},
   "source": [
    "# Stratified sampling"
   ]
  },
  {
   "cell_type": "code",
   "execution_count": 10,
   "metadata": {},
   "outputs": [
    {
     "data": {
      "text/plain": [
       "<matplotlib.axes._subplots.AxesSubplot at 0x7f9eb0049550>"
      ]
     },
     "execution_count": 10,
     "metadata": {},
     "output_type": "execute_result"
    },
    {
     "data": {
      "image/png": "[encoded data removed]",
      "text/plain": [
       "<Figure size 432x288 with 1 Axes>"
      ]
     },
     "metadata": {
      "needs_background": "light"
     },
     "output_type": "display_data"
    }
   ],
   "source": [
    "Protein_Dataset['RMSD'].hist()"
   ]
  },
  {
   "cell_type": "code",
   "execution_count": 11,
   "metadata": {},
   "outputs": [],
   "source": [
    "from sklearn.impute import SimpleImputer\n",
    "if \"RMSD\" in ['RMSD','F1','F2','F3','F4','F6','F7','F8', ]:\n",
    "    imp=SimpleImputer(strategy=\"mean\")\n",
    "    Protein_Dataset[\"RMSD\"]=imp.fit_transform(Protein_Dataset[[\"RMSD\"]]).ravel()\n"
   ]
  },
  {
   "cell_type": "code",
   "execution_count": 12,
   "metadata": {},
   "outputs": [],
   "source": [
    "# Divide by 1.5 to limit the number of RMSD categories\n",
    "# Round up using ceil to have discrete categories\n",
    "Protein_Dataset[\"RMSD_cat\"] = np.ceil(Protein_Dataset[\"RMSD\"] / 1.5)"
   ]
  },
  {
   "cell_type": "code",
   "execution_count": 13,
   "metadata": {},
   "outputs": [
    {
     "data": {
      "text/plain": [
       "2.0     11741\n",
       "3.0      5780\n",
       "1.0      3760\n",
       "10.0     2934\n",
       "4.0      2894\n",
       "11.0     2820\n",
       "9.0      2565\n",
       "8.0      2359\n",
       "12.0     2290\n",
       "13.0     1800\n",
       "5.0      1768\n",
       "7.0      1714\n",
       "6.0      1671\n",
       "14.0     1362\n",
       "0.0       272\n",
       "Name: RMSD_cat, dtype: int64"
      ]
     },
     "execution_count": 13,
     "metadata": {},
     "output_type": "execute_result"
    }
   ],
   "source": [
    "Protein_Dataset[\"RMSD_cat\"].value_counts()"
   ]
  },
  {
   "cell_type": "code",
   "execution_count": 14,
   "metadata": {},
   "outputs": [],
   "source": [
    "Protein_Dataset[\"RMSD_cat\"].where(Protein_Dataset[\"RMSD_cat\"] < 5, 5.0, inplace=True)\n"
   ]
  },
  {
   "cell_type": "code",
   "execution_count": 15,
   "metadata": {},
   "outputs": [
    {
     "data": {
      "text/plain": [
       "5.0    21283\n",
       "2.0    11741\n",
       "3.0     5780\n",
       "1.0     3760\n",
       "4.0     2894\n",
       "0.0      272\n",
       "Name: RMSD_cat, dtype: int64"
      ]
     },
     "execution_count": 15,
     "metadata": {},
     "output_type": "execute_result"
    }
   ],
   "source": [
    "Protein_Dataset[\"RMSD_cat\"].value_counts()"
   ]
  },
  {
   "cell_type": "code",
   "execution_count": 16,
   "metadata": {},
   "outputs": [
    {
     "data": {
      "text/plain": [
       "<matplotlib.axes._subplots.AxesSubplot at 0x7f9eb0a11fd0>"
      ]
     },
     "execution_count": 16,
     "metadata": {},
     "output_type": "execute_result"
    },
    {
     "data": {
      "image/png": "[encoded data removed]",
      "text/plain": [
       "<Figure size 432x288 with 1 Axes>"
      ]
     },
     "metadata": {
      "needs_background": "light"
     },
     "output_type": "display_data"
    }
   ],
   "source": [
    "Protein_Dataset[\"RMSD_cat\"].hist()"
   ]
  },
  {
   "cell_type": "code",
   "execution_count": 17,
   "metadata": {},
   "outputs": [],
   "source": [
    "from sklearn.model_selection import StratifiedShuffleSplit\n",
    "\n",
    "split = StratifiedShuffleSplit(n_splits=1, test_size=0.2, random_state=42)\n",
    "for train_index, test_index in split.split(Protein_Dataset, Protein_Dataset[\"RMSD_cat\"]):\n",
    "    strat_train_set = Protein_Dataset.iloc[train_index]\n",
    "    strat_test_set = Protein_Dataset.iloc[test_index]"
   ]
  },
  {
   "cell_type": "code",
   "execution_count": 18,
   "metadata": {},
   "outputs": [
    {
     "data": {
      "text/plain": [
       "5.0    0.465449\n",
       "2.0    0.256724\n",
       "3.0    0.126394\n",
       "1.0    0.082222\n",
       "4.0    0.063306\n",
       "0.0    0.005904\n",
       "Name: RMSD_cat, dtype: float64"
      ]
     },
     "execution_count": 18,
     "metadata": {},
     "output_type": "execute_result"
    }
   ],
   "source": [
    "strat_test_set[\"RMSD_cat\"].value_counts() / len(strat_test_set)"
   ]
  },
  {
   "cell_type": "code",
   "execution_count": 19,
   "metadata": {},
   "outputs": [
    {
     "data": {
      "text/plain": [
       "5.0    0.465406\n",
       "2.0    0.256746\n",
       "3.0    0.126394\n",
       "1.0    0.082222\n",
       "4.0    0.063284\n",
       "0.0    0.005948\n",
       "Name: RMSD_cat, dtype: float64"
      ]
     },
     "execution_count": 19,
     "metadata": {},
     "output_type": "execute_result"
    }
   ],
   "source": [
    "Protein_Dataset[\"RMSD_cat\"].value_counts() / len(Protein_Dataset)"
   ]
  },
  {
   "cell_type": "code",
   "execution_count": 20,
   "metadata": {},
   "outputs": [],
   "source": [
    "# compare RMSD category proportion in Stratified Sampling and Random Sampling\n",
    "\n",
    "def RMSD_cat_proportions(data):\n",
    "    return data[\"RMSD_cat\"].value_counts() / len(data)\n",
    "\n",
    "train_set, test_set = train_test_split(Protein_Dataset, test_size=0.2, random_state=42)\n",
    "\n",
    "compare_props = pd.DataFrame({\n",
    "    \"Overall\": RMSD_cat_proportions(Protein_Dataset),\n",
    "    \"Stratified\": RMSD_cat_proportions(strat_test_set),\n",
    "    \"Random\": RMSD_cat_proportions(test_set),\n",
    "}).sort_index()\n",
    "compare_props[\"Rand. %error\"] = 100 * compare_props[\"Random\"] / compare_props[\"Overall\"] - 100\n",
    "compare_props[\"Strat. %error\"] = 100 * compare_props[\"Stratified\"] / compare_props[\"Overall\"] - 100"
   ]
  },
  {
   "cell_type": "code",
   "execution_count": 21,
   "metadata": {
    "scrolled": true
   },
   "outputs": [
    {
     "data": {
      "text/html": [
       "<div>\n",
       "<style scoped>\n",
       "    .dataframe tbody tr th:only-of-type {\n",
       "        vertical-align: middle;\n",
       "    }\n",
       "\n",
       "    .dataframe tbody tr th {\n",
       "        vertical-align: top;\n",
       "    }\n",
       "\n",
       "    .dataframe thead th {\n",
       "        text-align: right;\n",
       "    }\n",
       "</style>\n",
       "<table border=\"1\" class=\"dataframe\">\n",
       "  <thead>\n",
       "    <tr style=\"text-align: right;\">\n",
       "      <th></th>\n",
       "      <th>Overall</th>\n",
       "      <th>Stratified</th>\n",
       "      <th>Random</th>\n",
       "      <th>Rand. %error</th>\n",
       "      <th>Strat. %error</th>\n",
       "    </tr>\n",
       "  </thead>\n",
       "  <tbody>\n",
       "    <tr>\n",
       "      <td>0.0</td>\n",
       "      <td>0.005948</td>\n",
       "      <td>0.005904</td>\n",
       "      <td>0.006451</td>\n",
       "      <td>8.455882</td>\n",
       "      <td>-7.352941e-01</td>\n",
       "    </tr>\n",
       "    <tr>\n",
       "      <td>1.0</td>\n",
       "      <td>0.082222</td>\n",
       "      <td>0.082222</td>\n",
       "      <td>0.085830</td>\n",
       "      <td>4.388298</td>\n",
       "      <td>1.421085e-14</td>\n",
       "    </tr>\n",
       "    <tr>\n",
       "      <td>2.0</td>\n",
       "      <td>0.256746</td>\n",
       "      <td>0.256724</td>\n",
       "      <td>0.254647</td>\n",
       "      <td>-0.817648</td>\n",
       "      <td>-8.517162e-03</td>\n",
       "    </tr>\n",
       "    <tr>\n",
       "      <td>3.0</td>\n",
       "      <td>0.126394</td>\n",
       "      <td>0.126394</td>\n",
       "      <td>0.123661</td>\n",
       "      <td>-2.162630</td>\n",
       "      <td>0.000000e+00</td>\n",
       "    </tr>\n",
       "    <tr>\n",
       "      <td>4.0</td>\n",
       "      <td>0.063284</td>\n",
       "      <td>0.063306</td>\n",
       "      <td>0.065274</td>\n",
       "      <td>3.144437</td>\n",
       "      <td>3.455425e-02</td>\n",
       "    </tr>\n",
       "    <tr>\n",
       "      <td>5.0</td>\n",
       "      <td>0.465406</td>\n",
       "      <td>0.465449</td>\n",
       "      <td>0.464137</td>\n",
       "      <td>-0.272518</td>\n",
       "      <td>9.397171e-03</td>\n",
       "    </tr>\n",
       "  </tbody>\n",
       "</table>\n",
       "</div>"
      ],
      "text/plain": [
       "      Overall  Stratified    Random  Rand. %error  Strat. %error\n",
       "0.0  0.005948    0.005904  0.006451      8.455882  -7.352941e-01\n",
       "1.0  0.082222    0.082222  0.085830      4.388298   1.421085e-14\n",
       "2.0  0.256746    0.256724  0.254647     -0.817648  -8.517162e-03\n",
       "3.0  0.126394    0.126394  0.123661     -2.162630   0.000000e+00\n",
       "4.0  0.063284    0.063306  0.065274      3.144437   3.455425e-02\n",
       "5.0  0.465406    0.465449  0.464137     -0.272518   9.397171e-03"
      ]
     },
     "execution_count": 21,
     "metadata": {},
     "output_type": "execute_result"
    }
   ],
   "source": [
    "compare_props"
   ]
  },
  {
   "cell_type": "code",
   "execution_count": 22,
   "metadata": {},
   "outputs": [
    {
     "name": "stderr",
     "output_type": "stream",
     "text": [
      "/usr/local/anaconda/lib/python3.6/site-packages/pandas/core/frame.py:4102: SettingWithCopyWarning: \n",
      "A value is trying to be set on a copy of a slice from a DataFrame\n",
      "\n",
      "See the caveats in the documentation: http://pandas.pydata.org/pandas-docs/stable/user_guide/indexing.html#returning-a-view-versus-a-copy\n",
      "  errors=errors,\n"
     ]
    }
   ],
   "source": [
    "for set_ in (strat_train_set, strat_test_set):\n",
    "    set_.drop(\"RMSD_cat\", axis=1, inplace=True)"
   ]
  },
  {
   "cell_type": "code",
   "execution_count": 23,
   "metadata": {},
   "outputs": [],
   "source": [
    "Protein_Dataset = strat_train_set.copy()\n",
    "test_set = strat_test_set.copy()\n",
    "train_set = strat_train_set.copy()"
   ]
  },
  {
   "cell_type": "markdown",
   "metadata": {},
   "source": [
    "# Discover and visualize the data to gain insights"
   ]
  },
  {
   "cell_type": "code",
   "execution_count": 24,
   "metadata": {},
   "outputs": [
    {
     "data": {
      "text/plain": [
       "<matplotlib.axes._subplots.AxesSubplot at 0x7f9eb08f7898>"
      ]
     },
     "execution_count": 24,
     "metadata": {},
     "output_type": "execute_result"
    },
    {
     "data": {
      "image/png": "[encoded data removed]",
      "text/plain": [
       "<Figure size 432x288 with 1 Axes>"
      ]
     },
     "metadata": {
      "needs_background": "light"
     },
     "output_type": "display_data"
    }
   ],
   "source": [
    "Protein_Dataset.plot(kind=\"scatter\", x=\"RMSD\", y=\"RMSD\", alpha=0.1)"
   ]
  },
  {
   "cell_type": "code",
   "execution_count": 25,
   "metadata": {},
   "outputs": [
    {
     "data": {
      "text/html": [
       "<div>\n",
       "<style scoped>\n",
       "    .dataframe tbody tr th:only-of-type {\n",
       "        vertical-align: middle;\n",
       "    }\n",
       "\n",
       "    .dataframe tbody tr th {\n",
       "        vertical-align: top;\n",
       "    }\n",
       "\n",
       "    .dataframe thead th {\n",
       "        text-align: right;\n",
       "    }\n",
       "</style>\n",
       "<table border=\"1\" class=\"dataframe\">\n",
       "  <thead>\n",
       "    <tr style=\"text-align: right;\">\n",
       "      <th></th>\n",
       "      <th>RMSD</th>\n",
       "      <th>F1</th>\n",
       "      <th>F2</th>\n",
       "      <th>F3</th>\n",
       "      <th>F4</th>\n",
       "      <th>F6</th>\n",
       "      <th>F7</th>\n",
       "      <th>F8</th>\n",
       "    </tr>\n",
       "  </thead>\n",
       "  <tbody>\n",
       "    <tr>\n",
       "      <td>RMSD</td>\n",
       "      <td>1.000000</td>\n",
       "      <td>-0.015745</td>\n",
       "      <td>0.155842</td>\n",
       "      <td>0.373773</td>\n",
       "      <td>-0.170035</td>\n",
       "      <td>-0.037077</td>\n",
       "      <td>-0.004989</td>\n",
       "      <td>-0.003845</td>\n",
       "    </tr>\n",
       "    <tr>\n",
       "      <td>F1</td>\n",
       "      <td>-0.015745</td>\n",
       "      <td>1.000000</td>\n",
       "      <td>0.907189</td>\n",
       "      <td>0.125762</td>\n",
       "      <td>0.930909</td>\n",
       "      <td>0.967483</td>\n",
       "      <td>0.543425</td>\n",
       "      <td>0.652356</td>\n",
       "    </tr>\n",
       "    <tr>\n",
       "      <td>F2</td>\n",
       "      <td>0.155842</td>\n",
       "      <td>0.907189</td>\n",
       "      <td>1.000000</td>\n",
       "      <td>0.500769</td>\n",
       "      <td>0.793359</td>\n",
       "      <td>0.908827</td>\n",
       "      <td>0.504815</td>\n",
       "      <td>0.584513</td>\n",
       "    </tr>\n",
       "    <tr>\n",
       "      <td>F3</td>\n",
       "      <td>0.373773</td>\n",
       "      <td>0.125762</td>\n",
       "      <td>0.500769</td>\n",
       "      <td>1.000000</td>\n",
       "      <td>0.030593</td>\n",
       "      <td>0.200383</td>\n",
       "      <td>0.075365</td>\n",
       "      <td>0.093076</td>\n",
       "    </tr>\n",
       "    <tr>\n",
       "      <td>F4</td>\n",
       "      <td>-0.170035</td>\n",
       "      <td>0.930909</td>\n",
       "      <td>0.793359</td>\n",
       "      <td>0.030593</td>\n",
       "      <td>1.000000</td>\n",
       "      <td>0.938378</td>\n",
       "      <td>0.476865</td>\n",
       "      <td>0.678841</td>\n",
       "    </tr>\n",
       "    <tr>\n",
       "      <td>F6</td>\n",
       "      <td>-0.037077</td>\n",
       "      <td>0.967483</td>\n",
       "      <td>0.908827</td>\n",
       "      <td>0.200383</td>\n",
       "      <td>0.938378</td>\n",
       "      <td>1.000000</td>\n",
       "      <td>0.527551</td>\n",
       "      <td>0.663723</td>\n",
       "    </tr>\n",
       "    <tr>\n",
       "      <td>F7</td>\n",
       "      <td>-0.004989</td>\n",
       "      <td>0.543425</td>\n",
       "      <td>0.504815</td>\n",
       "      <td>0.075365</td>\n",
       "      <td>0.476865</td>\n",
       "      <td>0.527551</td>\n",
       "      <td>1.000000</td>\n",
       "      <td>0.340516</td>\n",
       "    </tr>\n",
       "    <tr>\n",
       "      <td>F8</td>\n",
       "      <td>-0.003845</td>\n",
       "      <td>0.652356</td>\n",
       "      <td>0.584513</td>\n",
       "      <td>0.093076</td>\n",
       "      <td>0.678841</td>\n",
       "      <td>0.663723</td>\n",
       "      <td>0.340516</td>\n",
       "      <td>1.000000</td>\n",
       "    </tr>\n",
       "  </tbody>\n",
       "</table>\n",
       "</div>"
      ],
      "text/plain": [
       "          RMSD        F1        F2        F3        F4        F6        F7  \\\n",
       "RMSD  1.000000 -0.015745  0.155842  0.373773 -0.170035 -0.037077 -0.004989   \n",
       "F1   -0.015745  1.000000  0.907189  0.125762  0.930909  0.967483  0.543425   \n",
       "F2    0.155842  0.907189  1.000000  0.500769  0.793359  0.908827  0.504815   \n",
       "F3    0.373773  0.125762  0.500769  1.000000  0.030593  0.200383  0.075365   \n",
       "F4   -0.170035  0.930909  0.793359  0.030593  1.000000  0.938378  0.476865   \n",
       "F6   -0.037077  0.967483  0.908827  0.200383  0.938378  1.000000  0.527551   \n",
       "F7   -0.004989  0.543425  0.504815  0.075365  0.476865  0.527551  1.000000   \n",
       "F8   -0.003845  0.652356  0.584513  0.093076  0.678841  0.663723  0.340516   \n",
       "\n",
       "            F8  \n",
       "RMSD -0.003845  \n",
       "F1    0.652356  \n",
       "F2    0.584513  \n",
       "F3    0.093076  \n",
       "F4    0.678841  \n",
       "F6    0.663723  \n",
       "F7    0.340516  \n",
       "F8    1.000000  "
      ]
     },
     "execution_count": 25,
     "metadata": {},
     "output_type": "execute_result"
    }
   ],
   "source": [
    "corr_matrix = Protein_Dataset.corr()\n",
    "corr_matrix"
   ]
  },
  {
   "cell_type": "code",
   "execution_count": 26,
   "metadata": {},
   "outputs": [
    {
     "name": "stdout",
     "output_type": "stream",
     "text": [
      "RMSD   -0.003845\n",
      "F1      0.652356\n",
      "F2      0.584513\n",
      "F3      0.093076\n",
      "F4      0.678841\n",
      "F6      0.663723\n",
      "F7      0.340516\n",
      "F8      1.000000\n",
      "Name: F8, dtype: float64\n"
     ]
    }
   ],
   "source": [
    "for x in ['F8', ]:\n",
    "    print (corr_matrix[x])"
   ]
  },
  {
   "cell_type": "code",
   "execution_count": 27,
   "metadata": {
    "scrolled": true
   },
   "outputs": [
    {
     "name": "stdout",
     "output_type": "stream",
     "text": [
      "F8      1.000000\n",
      "F4      0.678841\n",
      "F6      0.663723\n",
      "F1      0.652356\n",
      "F2      0.584513\n",
      "F7      0.340516\n",
      "F3      0.093076\n",
      "RMSD   -0.003845\n",
      "Name: F8, dtype: float64\n"
     ]
    }
   ],
   "source": [
    "for x in ['F8', ]:\n",
    "    print (corr_matrix[x].sort_values(ascending=False))"
   ]
  },
  {
   "cell_type": "markdown",
   "metadata": {},
   "source": [
    "# Scatter matrix"
   ]
  },
  {
   "cell_type": "code",
   "execution_count": 28,
   "metadata": {
    "scrolled": true
   },
   "outputs": [
    {
     "data": {
      "text/plain": [
       "array([[<matplotlib.axes._subplots.AxesSubplot object at 0x7f9eb0e4b240>,\n",
       "        <matplotlib.axes._subplots.AxesSubplot object at 0x7f9eb0c84208>,\n",
       "        <matplotlib.axes._subplots.AxesSubplot object at 0x7f9eb07c3358>,\n",
       "        <matplotlib.axes._subplots.AxesSubplot object at 0x7f9eb07ef4a8>,\n",
       "        <matplotlib.axes._subplots.AxesSubplot object at 0x7f9eb0822588>,\n",
       "        <matplotlib.axes._subplots.AxesSubplot object at 0x7f9eb0e1d9b0>,\n",
       "        <matplotlib.axes._subplots.AxesSubplot object at 0x7f9eb0e13f28>,\n",
       "        <matplotlib.axes._subplots.AxesSubplot object at 0x7f9eb0d95550>],\n",
       "       [<matplotlib.axes._subplots.AxesSubplot object at 0x7f9eb0d95588>,\n",
       "        <matplotlib.axes._subplots.AxesSubplot object at 0x7f9eb0d08080>,\n",
       "        <matplotlib.axes._subplots.AxesSubplot object at 0x7f9eb0cda630>,\n",
       "        <matplotlib.axes._subplots.AxesSubplot object at 0x7f9eb0ccabe0>,\n",
       "        <matplotlib.axes._subplots.AxesSubplot object at 0x7f9eb0d381d0>,\n",
       "        <matplotlib.axes._subplots.AxesSubplot object at 0x7f9eae1dc780>,\n",
       "        <matplotlib.axes._subplots.AxesSubplot object at 0x7f9eafcb0cf8>,\n",
       "        <matplotlib.axes._subplots.AxesSubplot object at 0x7f9ea03c52e8>],\n",
       "       [<matplotlib.axes._subplots.AxesSubplot object at 0x7f9ea0375898>,\n",
       "        <matplotlib.axes._subplots.AxesSubplot object at 0x7f9ea03a7e48>,\n",
       "        <matplotlib.axes._subplots.AxesSubplot object at 0x7f9ea0366438>,\n",
       "        <matplotlib.axes._subplots.AxesSubplot object at 0x7f9ea03179e8>,\n",
       "        <matplotlib.axes._subplots.AxesSubplot object at 0x7f9ea02c9f98>,\n",
       "        <matplotlib.axes._subplots.AxesSubplot object at 0x7f9ea0285588>,\n",
       "        <matplotlib.axes._subplots.AxesSubplot object at 0x7f9ea0238b38>,\n",
       "        <matplotlib.axes._subplots.AxesSubplot object at 0x7f9ea01f7128>],\n",
       "       [<matplotlib.axes._subplots.AxesSubplot object at 0x7f9ea02256d8>,\n",
       "        <matplotlib.axes._subplots.AxesSubplot object at 0x7f9ea01d7c88>,\n",
       "        <matplotlib.axes._subplots.AxesSubplot object at 0x7f9ea0194278>,\n",
       "        <matplotlib.axes._subplots.AxesSubplot object at 0x7f9ea0144828>,\n",
       "        <matplotlib.axes._subplots.AxesSubplot object at 0x7f9ea00f8dd8>,\n",
       "        <matplotlib.axes._subplots.AxesSubplot object at 0x7f9ea00b43c8>,\n",
       "        <matplotlib.axes._subplots.AxesSubplot object at 0x7f9ea00e4978>,\n",
       "        <matplotlib.axes._subplots.AxesSubplot object at 0x7f9ea0098f28>],\n",
       "       [<matplotlib.axes._subplots.AxesSubplot object at 0x7f9ea0054518>,\n",
       "        <matplotlib.axes._subplots.AxesSubplot object at 0x7f9e7afd2ac8>,\n",
       "        <matplotlib.axes._subplots.AxesSubplot object at 0x7f9e7af8f0b8>,\n",
       "        <matplotlib.axes._subplots.AxesSubplot object at 0x7f9e7af43668>,\n",
       "        <matplotlib.axes._subplots.AxesSubplot object at 0x7f9e7af72c18>,\n",
       "        <matplotlib.axes._subplots.AxesSubplot object at 0x7f9e7af30208>,\n",
       "        <matplotlib.axes._subplots.AxesSubplot object at 0x7f9e7aee27b8>,\n",
       "        <matplotlib.axes._subplots.AxesSubplot object at 0x7f9e7ae92d68>],\n",
       "       [<matplotlib.axes._subplots.AxesSubplot object at 0x7f9e7ae4f358>,\n",
       "        <matplotlib.axes._subplots.AxesSubplot object at 0x7f9e7ae00908>,\n",
       "        <matplotlib.axes._subplots.AxesSubplot object at 0x7f9e7ae34eb8>,\n",
       "        <matplotlib.axes._subplots.AxesSubplot object at 0x7f9e7adee4a8>,\n",
       "        <matplotlib.axes._subplots.AxesSubplot object at 0x7f9e7ad9fa58>,\n",
       "        <matplotlib.axes._subplots.AxesSubplot object at 0x7f9e7ad5f048>,\n",
       "        <matplotlib.axes._subplots.AxesSubplot object at 0x7f9e7ad0e5f8>,\n",
       "        <matplotlib.axes._subplots.AxesSubplot object at 0x7f9e7acbfba8>],\n",
       "       [<matplotlib.axes._subplots.AxesSubplot object at 0x7f9e7ac7f198>,\n",
       "        <matplotlib.axes._subplots.AxesSubplot object at 0x7f9e7acaf748>,\n",
       "        <matplotlib.axes._subplots.AxesSubplot object at 0x7f9e7ac61cf8>,\n",
       "        <matplotlib.axes._subplots.AxesSubplot object at 0x7f9e7ac1f2e8>,\n",
       "        <matplotlib.axes._subplots.AxesSubplot object at 0x7f9e7abce898>,\n",
       "        <matplotlib.axes._subplots.AxesSubplot object at 0x7f9e7ab80e48>,\n",
       "        <matplotlib.axes._subplots.AxesSubplot object at 0x7f9e7ab3f438>,\n",
       "        <matplotlib.axes._subplots.AxesSubplot object at 0x7f9e7ab6f9e8>],\n",
       "       [<matplotlib.axes._subplots.AxesSubplot object at 0x7f9e7ab21f98>,\n",
       "        <matplotlib.axes._subplots.AxesSubplot object at 0x7f9e7aadc588>,\n",
       "        <matplotlib.axes._subplots.AxesSubplot object at 0x7f9e7aa8eb38>,\n",
       "        <matplotlib.axes._subplots.AxesSubplot object at 0x7f9e7aa4e128>,\n",
       "        <matplotlib.axes._subplots.AxesSubplot object at 0x7f9e7a9fe6d8>,\n",
       "        <matplotlib.axes._subplots.AxesSubplot object at 0x7f9e7aa31c88>,\n",
       "        <matplotlib.axes._subplots.AxesSubplot object at 0x7f9e7a9ee278>,\n",
       "        <matplotlib.axes._subplots.AxesSubplot object at 0x7f9e7a99d828>]],\n",
       "      dtype=object)"
      ]
     },
     "execution_count": 28,
     "metadata": {},
     "output_type": "execute_result"
    },
    {
     "data": {
      "image/png": "[encoded data removed]",
      "text/plain": [
       "<Figure size 864x576 with 64 Axes>"
      ]
     },
     "metadata": {
      "needs_background": "light"
     },
     "output_type": "display_data"
    }
   ],
   "source": [
    "# from pandas.tools.plotting import scatter_matrix \n",
    "\n",
    "from pandas.plotting import scatter_matrix\n",
    "\n",
    "x = 0\n",
    "attributes = []\n",
    "for x in ['RMSD','F1','F2','F3','F4','F6','F7','F8', ]:\n",
    "    attributes.append(x)\n",
    "scatter_matrix(Protein_Dataset[attributes], figsize=(12, 8))"
   ]
  },
  {
   "cell_type": "code",
   "execution_count": 29,
   "metadata": {},
   "outputs": [
    {
     "data": {
      "text/html": [
       "<div>\n",
       "<style scoped>\n",
       "    .dataframe tbody tr th:only-of-type {\n",
       "        vertical-align: middle;\n",
       "    }\n",
       "\n",
       "    .dataframe tbody tr th {\n",
       "        vertical-align: top;\n",
       "    }\n",
       "\n",
       "    .dataframe thead th {\n",
       "        text-align: right;\n",
       "    }\n",
       "</style>\n",
       "<table border=\"1\" class=\"dataframe\">\n",
       "  <thead>\n",
       "    <tr style=\"text-align: right;\">\n",
       "      <th></th>\n",
       "      <th>RMSD</th>\n",
       "      <th>F1</th>\n",
       "      <th>F2</th>\n",
       "      <th>F3</th>\n",
       "      <th>F4</th>\n",
       "      <th>F6</th>\n",
       "      <th>F7</th>\n",
       "      <th>F8</th>\n",
       "    </tr>\n",
       "  </thead>\n",
       "  <tbody>\n",
       "    <tr>\n",
       "      <td>count</td>\n",
       "      <td>36584.000000</td>\n",
       "      <td>36584.000000</td>\n",
       "      <td>36584.000000</td>\n",
       "      <td>36584.000000</td>\n",
       "      <td>36584.000000</td>\n",
       "      <td>36584.000000</td>\n",
       "      <td>36584.000000</td>\n",
       "      <td>36584.000000</td>\n",
       "    </tr>\n",
       "    <tr>\n",
       "      <td>mean</td>\n",
       "      <td>7.744333</td>\n",
       "      <td>9881.651586</td>\n",
       "      <td>3020.517975</td>\n",
       "      <td>0.302416</td>\n",
       "      <td>103.663672</td>\n",
       "      <td>145.814666</td>\n",
       "      <td>3992.894609</td>\n",
       "      <td>70.219358</td>\n",
       "    </tr>\n",
       "    <tr>\n",
       "      <td>std</td>\n",
       "      <td>6.115636</td>\n",
       "      <td>4067.920490</td>\n",
       "      <td>1465.723743</td>\n",
       "      <td>0.062737</td>\n",
       "      <td>55.535359</td>\n",
       "      <td>70.157917</td>\n",
       "      <td>2029.530630</td>\n",
       "      <td>56.764919</td>\n",
       "    </tr>\n",
       "    <tr>\n",
       "      <td>min</td>\n",
       "      <td>0.000000</td>\n",
       "      <td>2392.050000</td>\n",
       "      <td>403.500000</td>\n",
       "      <td>0.092500</td>\n",
       "      <td>10.689100</td>\n",
       "      <td>31.970400</td>\n",
       "      <td>0.000000</td>\n",
       "      <td>0.000000</td>\n",
       "    </tr>\n",
       "    <tr>\n",
       "      <td>25%</td>\n",
       "      <td>2.305000</td>\n",
       "      <td>6933.520000</td>\n",
       "      <td>1983.250000</td>\n",
       "      <td>0.258947</td>\n",
       "      <td>63.645975</td>\n",
       "      <td>94.704375</td>\n",
       "      <td>3165.902500</td>\n",
       "      <td>31.000000</td>\n",
       "    </tr>\n",
       "    <tr>\n",
       "      <td>50%</td>\n",
       "      <td>5.032500</td>\n",
       "      <td>8903.735000</td>\n",
       "      <td>2670.430000</td>\n",
       "      <td>0.300170</td>\n",
       "      <td>87.843450</td>\n",
       "      <td>126.329000</td>\n",
       "      <td>3842.180000</td>\n",
       "      <td>54.000000</td>\n",
       "    </tr>\n",
       "    <tr>\n",
       "      <td>75%</td>\n",
       "      <td>13.365500</td>\n",
       "      <td>12145.325000</td>\n",
       "      <td>3792.775000</td>\n",
       "      <td>0.342843</td>\n",
       "      <td>134.023000</td>\n",
       "      <td>181.822500</td>\n",
       "      <td>4644.750000</td>\n",
       "      <td>91.000000</td>\n",
       "    </tr>\n",
       "    <tr>\n",
       "      <td>max</td>\n",
       "      <td>20.999000</td>\n",
       "      <td>40034.900000</td>\n",
       "      <td>15312.000000</td>\n",
       "      <td>0.577690</td>\n",
       "      <td>369.317000</td>\n",
       "      <td>598.408000</td>\n",
       "      <td>105948.170000</td>\n",
       "      <td>350.000000</td>\n",
       "    </tr>\n",
       "  </tbody>\n",
       "</table>\n",
       "</div>"
      ],
      "text/plain": [
       "               RMSD            F1            F2            F3            F4  \\\n",
       "count  36584.000000  36584.000000  36584.000000  36584.000000  36584.000000   \n",
       "mean       7.744333   9881.651586   3020.517975      0.302416    103.663672   \n",
       "std        6.115636   4067.920490   1465.723743      0.062737     55.535359   \n",
       "min        0.000000   2392.050000    403.500000      0.092500     10.689100   \n",
       "25%        2.305000   6933.520000   1983.250000      0.258947     63.645975   \n",
       "50%        5.032500   8903.735000   2670.430000      0.300170     87.843450   \n",
       "75%       13.365500  12145.325000   3792.775000      0.342843    134.023000   \n",
       "max       20.999000  40034.900000  15312.000000      0.577690    369.317000   \n",
       "\n",
       "                 F6             F7            F8  \n",
       "count  36584.000000   36584.000000  36584.000000  \n",
       "mean     145.814666    3992.894609     70.219358  \n",
       "std       70.157917    2029.530630     56.764919  \n",
       "min       31.970400       0.000000      0.000000  \n",
       "25%       94.704375    3165.902500     31.000000  \n",
       "50%      126.329000    3842.180000     54.000000  \n",
       "75%      181.822500    4644.750000     91.000000  \n",
       "max      598.408000  105948.170000    350.000000  "
      ]
     },
     "execution_count": 29,
     "metadata": {},
     "output_type": "execute_result"
    }
   ],
   "source": [
    "Protein_Dataset.describe()"
   ]
  },
  {
   "cell_type": "code",
   "execution_count": 30,
   "metadata": {},
   "outputs": [],
   "source": [
    "x = 0\n",
    "for x in ['F8', ]:\n",
    "    Protein_Dataset = train_set.drop(x, axis=1) # drop label for training set\n",
    "    Protein_Dataset_labels = train_set[x].copy()\n"
   ]
  },
  {
   "cell_type": "code",
   "execution_count": 31,
   "metadata": {},
   "outputs": [
    {
     "data": {
      "text/html": [
       "<div>\n",
       "<style scoped>\n",
       "    .dataframe tbody tr th:only-of-type {\n",
       "        vertical-align: middle;\n",
       "    }\n",
       "\n",
       "    .dataframe tbody tr th {\n",
       "        vertical-align: top;\n",
       "    }\n",
       "\n",
       "    .dataframe thead th {\n",
       "        text-align: right;\n",
       "    }\n",
       "</style>\n",
       "<table border=\"1\" class=\"dataframe\">\n",
       "  <thead>\n",
       "    <tr style=\"text-align: right;\">\n",
       "      <th></th>\n",
       "      <th>RMSD</th>\n",
       "      <th>F1</th>\n",
       "      <th>F2</th>\n",
       "      <th>F3</th>\n",
       "      <th>F4</th>\n",
       "      <th>F6</th>\n",
       "      <th>F7</th>\n",
       "    </tr>\n",
       "  </thead>\n",
       "  <tbody>\n",
       "  </tbody>\n",
       "</table>\n",
       "</div>"
      ],
      "text/plain": [
       "Empty DataFrame\n",
       "Columns: [RMSD, F1, F2, F3, F4, F6, F7]\n",
       "Index: []"
      ]
     },
     "execution_count": 31,
     "metadata": {},
     "output_type": "execute_result"
    }
   ],
   "source": [
    "sample_incomplete_rows = Protein_Dataset[Protein_Dataset.isnull().any(axis=1)].head()\n",
    "sample_incomplete_rows"
   ]
  },
  {
   "cell_type": "code",
   "execution_count": 32,
   "metadata": {},
   "outputs": [],
   "source": [
    "from sklearn.impute import SimpleImputer\n",
    "imputer = SimpleImputer(strategy=\"mean\")"
   ]
  },
  {
   "cell_type": "code",
   "execution_count": 33,
   "metadata": {},
   "outputs": [],
   "source": [
    "from sklearn.base import BaseEstimator, TransformerMixin\n",
    "\n",
    "class DataFrameSelector(BaseEstimator, TransformerMixin):\n",
    "    def __init__(self, attribute_names):\n",
    "        self.attribute_names = attribute_names\n",
    "    def fit(self, X, y=None):\n",
    "        return self\n",
    "    def transform(self, X):\n",
    "        return X[self.attribute_names].values"
   ]
  },
  {
   "cell_type": "code",
   "execution_count": 34,
   "metadata": {},
   "outputs": [],
   "source": [
    "Protein_Dataset_num = Protein_Dataset"
   ]
  },
  {
   "cell_type": "markdown",
   "metadata": {},
   "source": [
    "## Feature scaling"
   ]
  },
  {
   "cell_type": "code",
   "execution_count": 35,
   "metadata": {},
   "outputs": [
    {
     "data": {
      "text/html": [
       "<div>\n",
       "<style scoped>\n",
       "    .dataframe tbody tr th:only-of-type {\n",
       "        vertical-align: middle;\n",
       "    }\n",
       "\n",
       "    .dataframe tbody tr th {\n",
       "        vertical-align: top;\n",
       "    }\n",
       "\n",
       "    .dataframe thead th {\n",
       "        text-align: right;\n",
       "    }\n",
       "</style>\n",
       "<table border=\"1\" class=\"dataframe\">\n",
       "  <thead>\n",
       "    <tr style=\"text-align: right;\">\n",
       "      <th></th>\n",
       "      <th>RMSD</th>\n",
       "      <th>F1</th>\n",
       "      <th>F2</th>\n",
       "      <th>F3</th>\n",
       "      <th>F4</th>\n",
       "      <th>F6</th>\n",
       "      <th>F7</th>\n",
       "    </tr>\n",
       "  </thead>\n",
       "  <tbody>\n",
       "    <tr>\n",
       "      <td>4807</td>\n",
       "      <td>3.939</td>\n",
       "      <td>9276.42</td>\n",
       "      <td>3803.15</td>\n",
       "      <td>0.40998</td>\n",
       "      <td>89.4560</td>\n",
       "      <td>131.9670</td>\n",
       "      <td>3859.55</td>\n",
       "    </tr>\n",
       "    <tr>\n",
       "      <td>13741</td>\n",
       "      <td>3.723</td>\n",
       "      <td>6020.43</td>\n",
       "      <td>1459.22</td>\n",
       "      <td>0.24237</td>\n",
       "      <td>54.0961</td>\n",
       "      <td>70.3864</td>\n",
       "      <td>2543.26</td>\n",
       "    </tr>\n",
       "    <tr>\n",
       "      <td>29298</td>\n",
       "      <td>2.809</td>\n",
       "      <td>12667.60</td>\n",
       "      <td>2961.74</td>\n",
       "      <td>0.23380</td>\n",
       "      <td>162.2000</td>\n",
       "      <td>196.0210</td>\n",
       "      <td>4188.36</td>\n",
       "    </tr>\n",
       "    <tr>\n",
       "      <td>39070</td>\n",
       "      <td>1.820</td>\n",
       "      <td>5716.29</td>\n",
       "      <td>1453.34</td>\n",
       "      <td>0.25424</td>\n",
       "      <td>59.4401</td>\n",
       "      <td>80.3096</td>\n",
       "      <td>3064.87</td>\n",
       "    </tr>\n",
       "    <tr>\n",
       "      <td>45312</td>\n",
       "      <td>10.879</td>\n",
       "      <td>6339.94</td>\n",
       "      <td>1951.77</td>\n",
       "      <td>0.30785</td>\n",
       "      <td>56.1016</td>\n",
       "      <td>75.8991</td>\n",
       "      <td>2604.42</td>\n",
       "    </tr>\n",
       "  </tbody>\n",
       "</table>\n",
       "</div>"
      ],
      "text/plain": [
       "         RMSD        F1       F2       F3        F4        F6       F7\n",
       "4807    3.939   9276.42  3803.15  0.40998   89.4560  131.9670  3859.55\n",
       "13741   3.723   6020.43  1459.22  0.24237   54.0961   70.3864  2543.26\n",
       "29298   2.809  12667.60  2961.74  0.23380  162.2000  196.0210  4188.36\n",
       "39070   1.820   5716.29  1453.34  0.25424   59.4401   80.3096  3064.87\n",
       "45312  10.879   6339.94  1951.77  0.30785   56.1016   75.8991  2604.42"
      ]
     },
     "execution_count": 35,
     "metadata": {},
     "output_type": "execute_result"
    }
   ],
   "source": [
    "\n",
    "from mlxtend.preprocessing import minmax_scaling\n",
    "num_variables_min_max = []\n",
    "for x in ['RMSD','F1','F2','F3','F4','F6','F7', ]:\n",
    "    num_variables_min_max.append(x)\n",
    "Protein_Dataset_num_min_max = Protein_Dataset_num[num_variables_min_max]\n",
    "Protein_Dataset_num_min_max.head()"
   ]
  },
  {
   "cell_type": "code",
   "execution_count": 36,
   "metadata": {},
   "outputs": [],
   "source": [
    "from sklearn.preprocessing import MinMaxScaler\n",
    "from sklearn.pipeline import Pipeline\n",
    "num_attribs_min_max = list(Protein_Dataset_num_min_max)\n",
    "num_pipeline_min_max = Pipeline([\n",
    "    ('selector', DataFrameSelector(num_attribs_min_max)),\n",
    "    ('imputer', SimpleImputer(strategy=\"mean\")),\n",
    "    ('min_max_scaler', MinMaxScaler()),\n",
    "])\n"
   ]
  },
  {
   "cell_type": "code",
   "execution_count": 37,
   "metadata": {},
   "outputs": [],
   "source": [
    "from sklearn.pipeline import FeatureUnion\n",
    "full_pipeline = FeatureUnion(transformer_list=[\n",
    "    (\"num_pipeline_min_max\", num_pipeline_min_max),\n",
    "])\n"
   ]
  },
  {
   "cell_type": "code",
   "execution_count": 38,
   "metadata": {},
   "outputs": [
    {
     "data": {
      "text/html": [
       "<div>\n",
       "<style scoped>\n",
       "    .dataframe tbody tr th:only-of-type {\n",
       "        vertical-align: middle;\n",
       "    }\n",
       "\n",
       "    .dataframe tbody tr th {\n",
       "        vertical-align: top;\n",
       "    }\n",
       "\n",
       "    .dataframe thead th {\n",
       "        text-align: right;\n",
       "    }\n",
       "</style>\n",
       "<table border=\"1\" class=\"dataframe\">\n",
       "  <thead>\n",
       "    <tr style=\"text-align: right;\">\n",
       "      <th></th>\n",
       "      <th>RMSD</th>\n",
       "      <th>F1</th>\n",
       "      <th>F2</th>\n",
       "      <th>F3</th>\n",
       "      <th>F4</th>\n",
       "      <th>F6</th>\n",
       "      <th>F7</th>\n",
       "    </tr>\n",
       "  </thead>\n",
       "  <tbody>\n",
       "    <tr>\n",
       "      <td>4807</td>\n",
       "      <td>3.939</td>\n",
       "      <td>9276.42</td>\n",
       "      <td>3803.15</td>\n",
       "      <td>0.40998</td>\n",
       "      <td>89.4560</td>\n",
       "      <td>131.9670</td>\n",
       "      <td>3859.55</td>\n",
       "    </tr>\n",
       "    <tr>\n",
       "      <td>13741</td>\n",
       "      <td>3.723</td>\n",
       "      <td>6020.43</td>\n",
       "      <td>1459.22</td>\n",
       "      <td>0.24237</td>\n",
       "      <td>54.0961</td>\n",
       "      <td>70.3864</td>\n",
       "      <td>2543.26</td>\n",
       "    </tr>\n",
       "    <tr>\n",
       "      <td>29298</td>\n",
       "      <td>2.809</td>\n",
       "      <td>12667.60</td>\n",
       "      <td>2961.74</td>\n",
       "      <td>0.23380</td>\n",
       "      <td>162.2000</td>\n",
       "      <td>196.0210</td>\n",
       "      <td>4188.36</td>\n",
       "    </tr>\n",
       "    <tr>\n",
       "      <td>39070</td>\n",
       "      <td>1.820</td>\n",
       "      <td>5716.29</td>\n",
       "      <td>1453.34</td>\n",
       "      <td>0.25424</td>\n",
       "      <td>59.4401</td>\n",
       "      <td>80.3096</td>\n",
       "      <td>3064.87</td>\n",
       "    </tr>\n",
       "    <tr>\n",
       "      <td>45312</td>\n",
       "      <td>10.879</td>\n",
       "      <td>6339.94</td>\n",
       "      <td>1951.77</td>\n",
       "      <td>0.30785</td>\n",
       "      <td>56.1016</td>\n",
       "      <td>75.8991</td>\n",
       "      <td>2604.42</td>\n",
       "    </tr>\n",
       "  </tbody>\n",
       "</table>\n",
       "</div>"
      ],
      "text/plain": [
       "         RMSD        F1       F2       F3        F4        F6       F7\n",
       "4807    3.939   9276.42  3803.15  0.40998   89.4560  131.9670  3859.55\n",
       "13741   3.723   6020.43  1459.22  0.24237   54.0961   70.3864  2543.26\n",
       "29298   2.809  12667.60  2961.74  0.23380  162.2000  196.0210  4188.36\n",
       "39070   1.820   5716.29  1453.34  0.25424   59.4401   80.3096  3064.87\n",
       "45312  10.879   6339.94  1951.77  0.30785   56.1016   75.8991  2604.42"
      ]
     },
     "execution_count": 38,
     "metadata": {},
     "output_type": "execute_result"
    }
   ],
   "source": [
    "Protein_Dataset.head()"
   ]
  },
  {
   "cell_type": "code",
   "execution_count": 39,
   "metadata": {
    "scrolled": true
   },
   "outputs": [
    {
     "name": "stdout",
     "output_type": "stream",
     "text": [
      "[0.18758036 0.18288652 0.22803434 0.6543416  0.21963406 0.17653595\n",
      " 0.03642866]\n",
      "[0.17729416 0.09638962 0.07081329 0.3088893  0.12103632 0.06782036\n",
      " 0.02400476]\n",
      "[0.13376827 0.27297481 0.17159607 0.29122612 0.42247382 0.28961813\n",
      " 0.03953216]\n"
     ]
    }
   ],
   "source": [
    "Protein_Dataset_prepared = full_pipeline.fit_transform(Protein_Dataset)\n",
    "print(Protein_Dataset_prepared[0])\n",
    "print(Protein_Dataset_prepared[1])\n",
    "print(Protein_Dataset_prepared[2])"
   ]
  },
  {
   "cell_type": "code",
   "execution_count": 40,
   "metadata": {},
   "outputs": [
    {
     "data": {
      "text/plain": [
       "(36584, 7)"
      ]
     },
     "execution_count": 40,
     "metadata": {},
     "output_type": "execute_result"
    }
   ],
   "source": [
    "Protein_Dataset_prepared.shape"
   ]
  },
  {
   "cell_type": "markdown",
   "metadata": {},
   "source": [
    "# Train a model "
   ]
  },
  {
   "cell_type": "code",
   "execution_count": 41,
   "metadata": {},
   "outputs": [],
   "source": [
    "# Function to display scores of our alogorithms for cross-validation\n",
    "\n",
    "def display_scores(scores):\n",
    "    print(\"Scores:\", scores)\n",
    "    print(\"Mean:\", scores.mean())\n",
    "    print(\"Standard deviation:\", scores.std())\n"
   ]
  },
  {
   "cell_type": "code",
   "execution_count": 42,
   "metadata": {},
   "outputs": [
    {
     "data": {
      "text/plain": [
       "LinearRegression(copy_X=True, fit_intercept=True, n_jobs=None, normalize=False)"
      ]
     },
     "execution_count": 42,
     "metadata": {},
     "output_type": "execute_result"
    }
   ],
   "source": [
    "# Train a Linear Regression model\n",
    "\n",
    "from sklearn.linear_model import LinearRegression\n",
    "\n",
    "lin_reg = LinearRegression()\n",
    "lin_reg.fit(Protein_Dataset_prepared, Protein_Dataset_labels)"
   ]
  },
  {
   "cell_type": "code",
   "execution_count": 43,
   "metadata": {},
   "outputs": [
    {
     "data": {
      "text/plain": [
       "41.07782412827282"
      ]
     },
     "execution_count": 43,
     "metadata": {},
     "output_type": "execute_result"
    }
   ],
   "source": [
    "# Calculate the RMSE in Linear Regression Model\n",
    "\n",
    "from sklearn.metrics import mean_squared_error\n",
    "\n",
    "Protein_Dataset_predictions = lin_reg.predict(Protein_Dataset_prepared)\n",
    "lin_mse = mean_squared_error(Protein_Dataset_labels, Protein_Dataset_predictions)\n",
    "lin_rmse = np.sqrt(lin_mse)\n",
    "lin_rmse"
   ]
  },
  {
   "cell_type": "code",
   "execution_count": 44,
   "metadata": {},
   "outputs": [
    {
     "name": "stdout",
     "output_type": "stream",
     "text": [
      "Scores: [41.00221125 42.01895458 41.40265222 40.57101612 41.20421939 40.10021805\n",
      " 41.63009069 41.27708257 41.53578257 40.14963099]\n",
      "Mean: 41.08918584408427\n",
      "Standard deviation: 0.6033391018341968\n"
     ]
    }
   ],
   "source": [
    "# K-fold Cross Validation for Linear Regression\n",
    "from sklearn.model_selection import cross_val_score\n",
    "\n",
    "lin_scores = cross_val_score(lin_reg, Protein_Dataset_prepared, Protein_Dataset_labels,\n",
    "                             scoring=\"neg_mean_squared_error\", cv=10)\n",
    "lin_rmse_scores = np.sqrt(-lin_scores)\n",
    "display_scores(lin_rmse_scores)"
   ]
  },
  {
   "cell_type": "code",
   "execution_count": 45,
   "metadata": {},
   "outputs": [
    {
     "data": {
      "text/plain": [
       "DecisionTreeRegressor(ccp_alpha=0.0, criterion='mse', max_depth=None,\n",
       "                      max_features=None, max_leaf_nodes=None,\n",
       "                      min_impurity_decrease=0.0, min_impurity_split=None,\n",
       "                      min_samples_leaf=1, min_samples_split=2,\n",
       "                      min_weight_fraction_leaf=0.0, presort='deprecated',\n",
       "                      random_state=42, splitter='best')"
      ]
     },
     "execution_count": 45,
     "metadata": {},
     "output_type": "execute_result"
    }
   ],
   "source": [
    "# Train a model using Decision Tree\n",
    "\n",
    "from sklearn.tree import DecisionTreeRegressor\n",
    "\n",
    "tree_reg = DecisionTreeRegressor(random_state=42)\n",
    "tree_reg.fit(Protein_Dataset_prepared, Protein_Dataset_labels)"
   ]
  },
  {
   "cell_type": "code",
   "execution_count": 46,
   "metadata": {},
   "outputs": [
    {
     "data": {
      "text/plain": [
       "0.026141133207971203"
      ]
     },
     "execution_count": 46,
     "metadata": {},
     "output_type": "execute_result"
    }
   ],
   "source": [
    "# Calculate RMSE in Decision Tree model\n",
    "from sklearn.metrics import mean_squared_error\n",
    "\n",
    "Protein_Dataset_predictions = tree_reg.predict(Protein_Dataset_prepared)\n",
    "tree_mse = mean_squared_error(Protein_Dataset_labels, Protein_Dataset_predictions)\n",
    "tree_rmse = np.sqrt(tree_mse)\n",
    "tree_rmse"
   ]
  },
  {
   "cell_type": "code",
   "execution_count": 47,
   "metadata": {},
   "outputs": [],
   "source": [
    "# K-fold Cross Validation for Decision Tree Model\n",
    "from sklearn.model_selection import cross_val_score\n",
    "\n",
    "tree_reg = DecisionTreeRegressor(random_state=42)\n",
    "scores = cross_val_score(tree_reg, Protein_Dataset_prepared, Protein_Dataset_labels,\n",
    "                         scoring=\"neg_mean_squared_error\", cv=10)\n",
    "tree_rmse_scores = np.sqrt(-scores)"
   ]
  },
  {
   "cell_type": "code",
   "execution_count": 48,
   "metadata": {},
   "outputs": [
    {
     "name": "stdout",
     "output_type": "stream",
     "text": [
      "Scores: [31.64824973 32.90282864 33.42182796 30.99846266 32.48307062 32.42221629\n",
      " 31.09188595 32.12423771 32.91367505 30.53481843]\n",
      "Mean: 32.05412730478603\n",
      "Standard deviation: 0.9037417252517926\n"
     ]
    }
   ],
   "source": [
    "display_scores(tree_rmse_scores)"
   ]
  },
  {
   "cell_type": "code",
   "execution_count": 49,
   "metadata": {},
   "outputs": [
    {
     "data": {
      "text/plain": [
       "RandomForestRegressor(bootstrap=True, ccp_alpha=0.0, criterion='mse',\n",
       "                      max_depth=None, max_features='auto', max_leaf_nodes=None,\n",
       "                      max_samples=None, min_impurity_decrease=0.0,\n",
       "                      min_impurity_split=None, min_samples_leaf=1,\n",
       "                      min_samples_split=2, min_weight_fraction_leaf=0.0,\n",
       "                      n_estimators=100, n_jobs=None, oob_score=False,\n",
       "                      random_state=42, verbose=0, warm_start=False)"
      ]
     },
     "execution_count": 49,
     "metadata": {},
     "output_type": "execute_result"
    }
   ],
   "source": [
    "# Train a model using Random Forests\n",
    "\n",
    "from sklearn.ensemble import RandomForestRegressor\n",
    "\n",
    "forest_reg = RandomForestRegressor(random_state=42)\n",
    "forest_reg.fit(Protein_Dataset_prepared, Protein_Dataset_labels)"
   ]
  },
  {
   "cell_type": "code",
   "execution_count": 50,
   "metadata": {},
   "outputs": [
    {
     "data": {
      "text/plain": [
       "8.411546785090408"
      ]
     },
     "execution_count": 50,
     "metadata": {},
     "output_type": "execute_result"
    }
   ],
   "source": [
    "# Calculate RMSE in Random Forest model\n",
    "from sklearn.metrics import mean_squared_error\n",
    "\n",
    "Protein_Dataset_predictions = forest_reg.predict(Protein_Dataset_prepared)\n",
    "forest_mse = mean_squared_error(Protein_Dataset_labels, Protein_Dataset_predictions)\n",
    "forest_rmse = np.sqrt(forest_mse)\n",
    "forest_rmse"
   ]
  },
  {
   "cell_type": "code",
   "execution_count": 51,
   "metadata": {},
   "outputs": [
    {
     "name": "stdout",
     "output_type": "stream",
     "text": [
      "Scores: [22.11618677 23.09862055 23.59118682 21.30033176 23.39421675 23.41180606\n",
      " 21.78358984 22.4881842  23.14535389 22.11738059]\n",
      "Mean: 22.64468572224909\n",
      "Standard deviation: 0.750565680405246\n"
     ]
    }
   ],
   "source": [
    "# Cross Validation in Random Forest model\n",
    "\n",
    "from sklearn.model_selection import cross_val_score\n",
    "\n",
    "forest_scores = cross_val_score(forest_reg, Protein_Dataset_prepared, Protein_Dataset_labels,\n",
    "                                scoring=\"neg_mean_squared_error\", cv=10)\n",
    "forest_rmse_scores = np.sqrt(-forest_scores)\n",
    "display_scores(forest_rmse_scores)"
   ]
  },
  {
   "cell_type": "code",
   "execution_count": 52,
   "metadata": {},
   "outputs": [],
   "source": [
    "# Total attributes\n",
    "\n",
    "attributes = num_attribs_min_max"
   ]
  },
  {
   "cell_type": "markdown",
   "metadata": {},
   "source": [
    "## Fine-tune the Model"
   ]
  },
  {
   "cell_type": "code",
   "execution_count": 53,
   "metadata": {},
   "outputs": [
    {
     "name": "stderr",
     "output_type": "stream",
     "text": [
      "/usr/local/anaconda/lib/python3.6/site-packages/sklearn/model_selection/_validation.py:536: FitFailedWarning: Estimator fit failed. The score on this train-test partition for these parameters will be set to nan. Details: \n",
      "ValueError: max_features must be in (0, n_features]\n",
      "\n",
      "  FitFailedWarning)\n",
      "/usr/local/anaconda/lib/python3.6/site-packages/sklearn/model_selection/_validation.py:536: FitFailedWarning: Estimator fit failed. The score on this train-test partition for these parameters will be set to nan. Details: \n",
      "ValueError: max_features must be in (0, n_features]\n",
      "\n",
      "  FitFailedWarning)\n",
      "/usr/local/anaconda/lib/python3.6/site-packages/sklearn/model_selection/_validation.py:536: FitFailedWarning: Estimator fit failed. The score on this train-test partition for these parameters will be set to nan. Details: \n",
      "ValueError: max_features must be in (0, n_features]\n",
      "\n",
      "  FitFailedWarning)\n",
      "/usr/local/anaconda/lib/python3.6/site-packages/sklearn/model_selection/_validation.py:536: FitFailedWarning: Estimator fit failed. The score on this train-test partition for these parameters will be set to nan. Details: \n",
      "ValueError: max_features must be in (0, n_features]\n",
      "\n",
      "  FitFailedWarning)\n",
      "/usr/local/anaconda/lib/python3.6/site-packages/sklearn/model_selection/_validation.py:536: FitFailedWarning: Estimator fit failed. The score on this train-test partition for these parameters will be set to nan. Details: \n",
      "ValueError: max_features must be in (0, n_features]\n",
      "\n",
      "  FitFailedWarning)\n",
      "/usr/local/anaconda/lib/python3.6/site-packages/sklearn/model_selection/_validation.py:536: FitFailedWarning: Estimator fit failed. The score on this train-test partition for these parameters will be set to nan. Details: \n",
      "ValueError: max_features must be in (0, n_features]\n",
      "\n",
      "  FitFailedWarning)\n",
      "/usr/local/anaconda/lib/python3.6/site-packages/sklearn/model_selection/_validation.py:536: FitFailedWarning: Estimator fit failed. The score on this train-test partition for these parameters will be set to nan. Details: \n",
      "ValueError: max_features must be in (0, n_features]\n",
      "\n",
      "  FitFailedWarning)\n",
      "/usr/local/anaconda/lib/python3.6/site-packages/sklearn/model_selection/_validation.py:536: FitFailedWarning: Estimator fit failed. The score on this train-test partition for these parameters will be set to nan. Details: \n",
      "ValueError: max_features must be in (0, n_features]\n",
      "\n",
      "  FitFailedWarning)\n",
      "/usr/local/anaconda/lib/python3.6/site-packages/sklearn/model_selection/_validation.py:536: FitFailedWarning: Estimator fit failed. The score on this train-test partition for these parameters will be set to nan. Details: \n",
      "ValueError: max_features must be in (0, n_features]\n",
      "\n",
      "  FitFailedWarning)\n",
      "/usr/local/anaconda/lib/python3.6/site-packages/sklearn/model_selection/_validation.py:536: FitFailedWarning: Estimator fit failed. The score on this train-test partition for these parameters will be set to nan. Details: \n",
      "ValueError: max_features must be in (0, n_features]\n",
      "\n",
      "  FitFailedWarning)\n",
      "/usr/local/anaconda/lib/python3.6/site-packages/sklearn/model_selection/_validation.py:536: FitFailedWarning: Estimator fit failed. The score on this train-test partition for these parameters will be set to nan. Details: \n",
      "ValueError: max_features must be in (0, n_features]\n",
      "\n",
      "  FitFailedWarning)\n",
      "/usr/local/anaconda/lib/python3.6/site-packages/sklearn/model_selection/_validation.py:536: FitFailedWarning: Estimator fit failed. The score on this train-test partition for these parameters will be set to nan. Details: \n",
      "ValueError: max_features must be in (0, n_features]\n",
      "\n",
      "  FitFailedWarning)\n",
      "/usr/local/anaconda/lib/python3.6/site-packages/sklearn/model_selection/_validation.py:536: FitFailedWarning: Estimator fit failed. The score on this train-test partition for these parameters will be set to nan. Details: \n",
      "ValueError: max_features must be in (0, n_features]\n",
      "\n",
      "  FitFailedWarning)\n",
      "/usr/local/anaconda/lib/python3.6/site-packages/sklearn/model_selection/_validation.py:536: FitFailedWarning: Estimator fit failed. The score on this train-test partition for these parameters will be set to nan. Details: \n",
      "ValueError: max_features must be in (0, n_features]\n",
      "\n",
      "  FitFailedWarning)\n",
      "/usr/local/anaconda/lib/python3.6/site-packages/sklearn/model_selection/_validation.py:536: FitFailedWarning: Estimator fit failed. The score on this train-test partition for these parameters will be set to nan. Details: \n",
      "ValueError: max_features must be in (0, n_features]\n",
      "\n",
      "  FitFailedWarning)\n",
      "/usr/local/anaconda/lib/python3.6/site-packages/sklearn/model_selection/_validation.py:536: FitFailedWarning: Estimator fit failed. The score on this train-test partition for these parameters will be set to nan. Details: \n",
      "ValueError: max_features must be in (0, n_features]\n",
      "\n",
      "  FitFailedWarning)\n",
      "/usr/local/anaconda/lib/python3.6/site-packages/sklearn/model_selection/_validation.py:536: FitFailedWarning: Estimator fit failed. The score on this train-test partition for these parameters will be set to nan. Details: \n",
      "ValueError: max_features must be in (0, n_features]\n",
      "\n",
      "  FitFailedWarning)\n",
      "/usr/local/anaconda/lib/python3.6/site-packages/sklearn/model_selection/_validation.py:536: FitFailedWarning: Estimator fit failed. The score on this train-test partition for these parameters will be set to nan. Details: \n",
      "ValueError: max_features must be in (0, n_features]\n",
      "\n",
      "  FitFailedWarning)\n",
      "/usr/local/anaconda/lib/python3.6/site-packages/sklearn/model_selection/_validation.py:536: FitFailedWarning: Estimator fit failed. The score on this train-test partition for these parameters will be set to nan. Details: \n",
      "ValueError: max_features must be in (0, n_features]\n",
      "\n",
      "  FitFailedWarning)\n",
      "/usr/local/anaconda/lib/python3.6/site-packages/sklearn/model_selection/_validation.py:536: FitFailedWarning: Estimator fit failed. The score on this train-test partition for these parameters will be set to nan. Details: \n",
      "ValueError: max_features must be in (0, n_features]\n",
      "\n",
      "  FitFailedWarning)\n",
      "/usr/local/anaconda/lib/python3.6/site-packages/sklearn/model_selection/_validation.py:536: FitFailedWarning: Estimator fit failed. The score on this train-test partition for these parameters will be set to nan. Details: \n",
      "ValueError: max_features must be in (0, n_features]\n",
      "\n",
      "  FitFailedWarning)\n",
      "/usr/local/anaconda/lib/python3.6/site-packages/sklearn/model_selection/_validation.py:536: FitFailedWarning: Estimator fit failed. The score on this train-test partition for these parameters will be set to nan. Details: \n",
      "ValueError: max_features must be in (0, n_features]\n",
      "\n",
      "  FitFailedWarning)\n",
      "/usr/local/anaconda/lib/python3.6/site-packages/sklearn/model_selection/_validation.py:536: FitFailedWarning: Estimator fit failed. The score on this train-test partition for these parameters will be set to nan. Details: \n",
      "ValueError: max_features must be in (0, n_features]\n",
      "\n",
      "  FitFailedWarning)\n",
      "/usr/local/anaconda/lib/python3.6/site-packages/sklearn/model_selection/_validation.py:536: FitFailedWarning: Estimator fit failed. The score on this train-test partition for these parameters will be set to nan. Details: \n",
      "ValueError: max_features must be in (0, n_features]\n",
      "\n",
      "  FitFailedWarning)\n",
      "/usr/local/anaconda/lib/python3.6/site-packages/sklearn/model_selection/_validation.py:536: FitFailedWarning: Estimator fit failed. The score on this train-test partition for these parameters will be set to nan. Details: \n",
      "ValueError: max_features must be in (0, n_features]\n",
      "\n",
      "  FitFailedWarning)\n",
      "/usr/local/anaconda/lib/python3.6/site-packages/sklearn/model_selection/_validation.py:536: FitFailedWarning: Estimator fit failed. The score on this train-test partition for these parameters will be set to nan. Details: \n",
      "ValueError: max_features must be in (0, n_features]\n",
      "\n",
      "  FitFailedWarning)\n",
      "/usr/local/anaconda/lib/python3.6/site-packages/sklearn/model_selection/_validation.py:536: FitFailedWarning: Estimator fit failed. The score on this train-test partition for these parameters will be set to nan. Details: \n",
      "ValueError: max_features must be in (0, n_features]\n",
      "\n",
      "  FitFailedWarning)\n",
      "/usr/local/anaconda/lib/python3.6/site-packages/sklearn/model_selection/_validation.py:536: FitFailedWarning: Estimator fit failed. The score on this train-test partition for these parameters will be set to nan. Details: \n",
      "ValueError: max_features must be in (0, n_features]\n",
      "\n",
      "  FitFailedWarning)\n",
      "/usr/local/anaconda/lib/python3.6/site-packages/sklearn/model_selection/_validation.py:536: FitFailedWarning: Estimator fit failed. The score on this train-test partition for these parameters will be set to nan. Details: \n",
      "ValueError: max_features must be in (0, n_features]\n",
      "\n",
      "  FitFailedWarning)\n",
      "/usr/local/anaconda/lib/python3.6/site-packages/sklearn/model_selection/_validation.py:536: FitFailedWarning: Estimator fit failed. The score on this train-test partition for these parameters will be set to nan. Details: \n",
      "ValueError: max_features must be in (0, n_features]\n",
      "\n",
      "  FitFailedWarning)\n",
      "/usr/local/anaconda/lib/python3.6/site-packages/sklearn/model_selection/_validation.py:536: FitFailedWarning: Estimator fit failed. The score on this train-test partition for these parameters will be set to nan. Details: \n",
      "ValueError: max_features must be in (0, n_features]\n",
      "\n",
      "  FitFailedWarning)\n",
      "/usr/local/anaconda/lib/python3.6/site-packages/sklearn/model_selection/_validation.py:536: FitFailedWarning: Estimator fit failed. The score on this train-test partition for these parameters will be set to nan. Details: \n",
      "ValueError: max_features must be in (0, n_features]\n",
      "\n",
      "  FitFailedWarning)\n",
      "/usr/local/anaconda/lib/python3.6/site-packages/sklearn/model_selection/_validation.py:536: FitFailedWarning: Estimator fit failed. The score on this train-test partition for these parameters will be set to nan. Details: \n",
      "ValueError: max_features must be in (0, n_features]\n",
      "\n",
      "  FitFailedWarning)\n",
      "/usr/local/anaconda/lib/python3.6/site-packages/sklearn/model_selection/_validation.py:536: FitFailedWarning: Estimator fit failed. The score on this train-test partition for these parameters will be set to nan. Details: \n",
      "ValueError: max_features must be in (0, n_features]\n",
      "\n",
      "  FitFailedWarning)\n",
      "/usr/local/anaconda/lib/python3.6/site-packages/sklearn/model_selection/_validation.py:536: FitFailedWarning: Estimator fit failed. The score on this train-test partition for these parameters will be set to nan. Details: \n",
      "ValueError: max_features must be in (0, n_features]\n",
      "\n",
      "  FitFailedWarning)\n",
      "/usr/local/anaconda/lib/python3.6/site-packages/sklearn/model_selection/_validation.py:536: FitFailedWarning: Estimator fit failed. The score on this train-test partition for these parameters will be set to nan. Details: \n",
      "ValueError: max_features must be in (0, n_features]\n",
      "\n",
      "  FitFailedWarning)\n",
      "/usr/local/anaconda/lib/python3.6/site-packages/sklearn/model_selection/_validation.py:536: FitFailedWarning: Estimator fit failed. The score on this train-test partition for these parameters will be set to nan. Details: \n",
      "ValueError: max_features must be in (0, n_features]\n",
      "\n",
      "  FitFailedWarning)\n",
      "/usr/local/anaconda/lib/python3.6/site-packages/sklearn/model_selection/_validation.py:536: FitFailedWarning: Estimator fit failed. The score on this train-test partition for these parameters will be set to nan. Details: \n",
      "ValueError: max_features must be in (0, n_features]\n",
      "\n",
      "  FitFailedWarning)\n",
      "/usr/local/anaconda/lib/python3.6/site-packages/sklearn/model_selection/_validation.py:536: FitFailedWarning: Estimator fit failed. The score on this train-test partition for these parameters will be set to nan. Details: \n",
      "ValueError: max_features must be in (0, n_features]\n",
      "\n",
      "  FitFailedWarning)\n",
      "/usr/local/anaconda/lib/python3.6/site-packages/sklearn/model_selection/_validation.py:536: FitFailedWarning: Estimator fit failed. The score on this train-test partition for these parameters will be set to nan. Details: \n",
      "ValueError: max_features must be in (0, n_features]\n",
      "\n",
      "  FitFailedWarning)\n"
     ]
    },
    {
     "data": {
      "text/plain": [
       "GridSearchCV(cv=10, error_score=nan,\n",
       "             estimator=RandomForestRegressor(bootstrap=True, ccp_alpha=0.0,\n",
       "                                             criterion='mse', max_depth=None,\n",
       "                                             max_features='auto',\n",
       "                                             max_leaf_nodes=None,\n",
       "                                             max_samples=None,\n",
       "                                             min_impurity_decrease=0.0,\n",
       "                                             min_impurity_split=None,\n",
       "                                             min_samples_leaf=1,\n",
       "                                             min_samples_split=2,\n",
       "                                             min_weight_fraction_leaf=0.0,\n",
       "                                             n_estimators=100, n_jobs=None,\n",
       "                                             oob_score=False, random_state=42,\n",
       "                                             verbose=0, warm_start=False),\n",
       "             iid='deprecated', n_jobs=None,\n",
       "             param_grid=[{'max_features': [6, 8], 'n_estimators': [10, 30]},\n",
       "                         {'bootstrap': [False], 'max_features': [7, 9],\n",
       "                          'n_estimators': [20, 35]}],\n",
       "             pre_dispatch='2*n_jobs', refit=True, return_train_score=False,\n",
       "             scoring='neg_mean_squared_error', verbose=0)"
      ]
     },
     "execution_count": 53,
     "metadata": {},
     "output_type": "execute_result"
    }
   ],
   "source": [
    "# GridSearchCV\n",
    "\n",
    "from sklearn.ensemble import RandomForestRegressor\n",
    "from sklearn.model_selection import GridSearchCV\n",
    "\n",
    "param_grid = [\n",
    "    # try 12 (3×4) combinations of hyperparameters\n",
    "    {'n_estimators': [10, 30], 'max_features': [6, 8]},\n",
    "    # then try 6 (2×3) combinations with bootstrap set as False\n",
    "    {'bootstrap': [False], 'n_estimators': [20, 35], 'max_features': [7, 9]},\n",
    "]\n",
    "\n",
    "algo = RandomForestRegressor(random_state=42)\n",
    "# train across 10 folds\n",
    "grid_search = GridSearchCV(algo, param_grid, cv=10,\n",
    "                           scoring='neg_mean_squared_error')\n",
    "grid_search.fit(Protein_Dataset_prepared, Protein_Dataset_labels)"
   ]
  },
  {
   "cell_type": "code",
   "execution_count": 54,
   "metadata": {},
   "outputs": [
    {
     "data": {
      "text/plain": [
       "{'max_features': 6, 'n_estimators': 30}"
      ]
     },
     "execution_count": 54,
     "metadata": {},
     "output_type": "execute_result"
    }
   ],
   "source": [
    "# The best hyperparameter combinations\n",
    "\n",
    "grid_search.best_params_"
   ]
  },
  {
   "cell_type": "code",
   "execution_count": 55,
   "metadata": {},
   "outputs": [
    {
     "data": {
      "text/plain": [
       "RandomForestRegressor(bootstrap=True, ccp_alpha=0.0, criterion='mse',\n",
       "                      max_depth=None, max_features=6, max_leaf_nodes=None,\n",
       "                      max_samples=None, min_impurity_decrease=0.0,\n",
       "                      min_impurity_split=None, min_samples_leaf=1,\n",
       "                      min_samples_split=2, min_weight_fraction_leaf=0.0,\n",
       "                      n_estimators=30, n_jobs=None, oob_score=False,\n",
       "                      random_state=42, verbose=0, warm_start=False)"
      ]
     },
     "execution_count": 55,
     "metadata": {},
     "output_type": "execute_result"
    }
   ],
   "source": [
    "# Get the best estimator\n",
    "\n",
    "grid_search.best_estimator_"
   ]
  },
  {
   "cell_type": "code",
   "execution_count": 56,
   "metadata": {
    "scrolled": true
   },
   "outputs": [
    {
     "name": "stdout",
     "output_type": "stream",
     "text": [
      "23.82558257177277 {'max_features': 6, 'n_estimators': 10}\n",
      "22.880997266093146 {'max_features': 6, 'n_estimators': 30}\n",
      "nan {'max_features': 8, 'n_estimators': 10}\n",
      "nan {'max_features': 8, 'n_estimators': 30}\n",
      "30.90602563851204 {'bootstrap': False, 'max_features': 7, 'n_estimators': 20}\n",
      "30.87085522657373 {'bootstrap': False, 'max_features': 7, 'n_estimators': 35}\n",
      "nan {'bootstrap': False, 'max_features': 9, 'n_estimators': 20}\n",
      "nan {'bootstrap': False, 'max_features': 9, 'n_estimators': 35}\n"
     ]
    }
   ],
   "source": [
    "# The score of each hyperparameter combination tested during the grid search\n",
    "\n",
    "cvres = grid_search.cv_results_\n",
    "for mean_score, params in zip(cvres[\"mean_test_score\"], cvres[\"params\"]):\n",
    "    print(np.sqrt(-mean_score), params)"
   ]
  },
  {
   "cell_type": "markdown",
   "metadata": {},
   "source": [
    "### Analyze the Best Models and Their Errors"
   ]
  },
  {
   "cell_type": "code",
   "execution_count": 57,
   "metadata": {},
   "outputs": [
    {
     "data": {
      "text/plain": [
       "[(0.3661702169291222, 'F6'),\n",
       " (0.25058448325088756, 'F4'),\n",
       " (0.12661956159141052, 'F7'),\n",
       " (0.09666958159548966, 'RMSD'),\n",
       " (0.06114909266076336, 'F1'),\n",
       " (0.05754702850031561, 'F3'),\n",
       " (0.04126003547201113, 'F2')]"
      ]
     },
     "execution_count": 57,
     "metadata": {},
     "output_type": "execute_result"
    }
   ],
   "source": [
    "feature_importances = grid_search.best_estimator_.feature_importances_\n",
    "sorted(zip(feature_importances, attributes), reverse=True)"
   ]
  },
  {
   "cell_type": "code",
   "execution_count": 58,
   "metadata": {},
   "outputs": [],
   "source": [
    "final_model = grid_search.best_estimator_\n",
    "\n",
    "x = 0\n",
    "for x in ['F8', ]:\n",
    "    X_test = test_set.drop(x, axis=1)\n",
    "    y_test = test_set[x].copy()\n",
    "\n",
    "X_test_prepared = full_pipeline.transform(X_test)\n",
    "final_predictions = final_model.predict(X_test_prepared)\n",
    "\n",
    "final_mse = mean_squared_error(y_test, final_predictions)\n",
    "final_rmse = np.sqrt(final_mse)"
   ]
  },
  {
   "cell_type": "code",
   "execution_count": 59,
   "metadata": {},
   "outputs": [
    {
     "data": {
      "text/plain": [
       "22.449662952075858"
      ]
     },
     "execution_count": 59,
     "metadata": {},
     "output_type": "execute_result"
    }
   ],
   "source": [
    "final_rmse"
   ]
  }
 ],
 "metadata": {
  "kernelspec": {
   "display_name": "Python 3",
   "language": "python",
   "name": "python3"
  },
  "language_info": {
   "codemirror_mode": {
    "name": "ipython",
    "version": 3
   },
   "file_extension": ".py",
   "mimetype": "text/x-python",
   "name": "python",
   "nbconvert_exporter": "python",
   "pygments_lexer": "ipython3",
   "version": "3.7.3"
  },
  "nav_menu": {
   "height": "279px",
   "width": "309px"
  },
  "toc": {
   "base_numbering": 1,
   "nav_menu": {},
   "number_sections": true,
   "sideBar": true,
   "skip_h1_title": false,
   "title_cell": "Table of Contents",
   "title_sidebar": "Contents",
   "toc_cell": false,
   "toc_position": {},
   "toc_section_display": "block",
   "toc_window_display": false
  }
 },
 "nbformat": 4,
 "nbformat_minor": 4
}
